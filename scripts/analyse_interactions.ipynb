{
 "cells": [
  {
   "cell_type": "markdown",
   "metadata": {},
   "source": [
    "## Construct interaction dataframe\n",
    "\n",
    "After initially importing all 17 interactions from Nave's database (see [here](#initial-data-import)), we try to organize the interaction-assembly somewhat in the following cell."
   ]
  },
  {
   "cell_type": "code",
   "execution_count": 1,
   "metadata": {},
   "outputs": [],
   "source": [
    "import pandas as pd\n",
    "import sys\n",
    "sys.path.append(\"..\")\n",
    "import random_kingdominion as rk\n",
    "from io import StringIO\n",
    "import plotly.express as px\n",
    "import numpy as np\n"
   ]
  },
  {
   "cell_type": "code",
   "execution_count": 20,
   "metadata": {},
   "outputs": [
    {
     "name": "stdout",
     "output_type": "stream",
     "text": [
      "                      CSO  Count              CSO Name       Expansion  \\\n",
      "3    way_of_the_chameleon     29  Way of the Chameleon       Menagerie   \n",
      "5        way_of_the_horse     28      Way of the Horse       Menagerie   \n",
      "6                sheepdog     27              Sheepdog       Menagerie   \n",
      "7    way_of_the_butterfly     27  Way of the Butterfly       Menagerie   \n",
      "9         way_of_the_seal     26       Way of the Seal       Menagerie   \n",
      "..                    ...    ...                   ...             ...   \n",
      "72             royal_seal      6            Royal Seal  Prosperity, 1E   \n",
      "101                vassal      3                Vassal        Base, 2E   \n",
      "114               artisan      2               Artisan        Base, 2E   \n",
      "155                  moat      1                  Moat        Base, 2E   \n",
      "116             alchemist      2             Alchemist         Alchemy   \n",
      "\n",
      "     Expansion count  \n",
      "3                594  \n",
      "5                594  \n",
      "6                594  \n",
      "7                594  \n",
      "9                594  \n",
      "..               ...  \n",
      "72                 6  \n",
      "101                6  \n",
      "114                6  \n",
      "155                6  \n",
      "116                2  \n",
      "\n",
      "[234 rows x 5 columns]\n"
     ]
    },
    {
     "data": {
      "application/vnd.plotly.v1+json": {
       "config": {
        "plotlyServerURL": "https://plot.ly"
       },
       "data": [
        {
         "alignmentgroup": "True",
         "bingroup": "y",
         "histfunc": "sum",
         "hovertemplate": "sum of Count=%{x}<br>Expansion=%{y}<extra></extra>",
         "legendgroup": "",
         "marker": {
          "color": "#000001",
          "pattern": {
           "shape": ""
          }
         },
         "name": "",
         "offsetgroup": "",
         "orientation": "h",
         "showlegend": false,
         "texttemplate": "%{value}",
         "type": "histogram",
         "x": [
          29,
          28,
          27,
          27,
          26,
          22,
          22,
          21,
          20,
          20,
          20,
          20,
          20,
          20,
          20,
          20,
          20,
          20,
          20,
          20,
          19,
          19,
          19,
          19,
          19,
          11,
          10,
          7,
          6,
          5,
          5,
          4,
          3,
          2,
          2,
          1,
          1,
          47,
          41,
          23,
          20,
          20,
          11,
          10,
          8,
          7,
          7,
          6,
          3,
          2,
          2,
          2,
          2,
          2,
          2,
          2,
          2,
          2,
          2,
          1,
          1,
          1,
          1,
          1,
          1,
          1,
          1,
          1,
          1,
          1,
          1,
          1,
          1,
          1,
          1,
          1,
          1,
          1,
          17,
          17,
          17,
          17,
          15,
          7,
          6,
          4,
          2,
          2,
          2,
          2,
          2,
          2,
          1,
          32,
          26,
          22,
          4,
          3,
          2,
          2,
          2,
          2,
          2,
          2,
          1,
          1,
          1,
          1,
          1,
          1,
          23,
          10,
          6,
          6,
          6,
          5,
          5,
          5,
          4,
          3,
          2,
          2,
          1,
          1,
          1,
          1,
          1,
          1,
          1,
          1,
          1,
          1,
          1,
          1,
          1,
          1,
          1,
          1,
          24,
          17,
          12,
          10,
          7,
          5,
          3,
          2,
          2,
          2,
          1,
          1,
          1,
          1,
          1,
          1,
          28,
          22,
          20,
          10,
          5,
          1,
          1,
          23,
          22,
          4,
          4,
          3,
          3,
          3,
          2,
          2,
          1,
          1,
          1,
          21,
          6,
          5,
          4,
          4,
          2,
          2,
          2,
          2,
          1,
          1,
          1,
          1,
          1,
          1,
          1,
          23,
          8,
          5,
          4,
          3,
          3,
          2,
          1,
          11,
          10,
          4,
          2,
          2,
          1,
          1,
          1,
          1,
          1,
          1,
          20,
          4,
          3,
          2,
          1,
          1,
          1,
          1,
          21,
          1,
          1,
          1,
          20,
          9,
          7,
          6,
          5,
          3,
          1,
          1,
          11,
          6,
          3,
          2,
          1,
          2
         ],
         "xaxis": "x",
         "y": [
          "Menagerie",
          "Menagerie",
          "Menagerie",
          "Menagerie",
          "Menagerie",
          "Menagerie",
          "Menagerie",
          "Menagerie",
          "Menagerie",
          "Menagerie",
          "Menagerie",
          "Menagerie",
          "Menagerie",
          "Menagerie",
          "Menagerie",
          "Menagerie",
          "Menagerie",
          "Menagerie",
          "Menagerie",
          "Menagerie",
          "Menagerie",
          "Menagerie",
          "Menagerie",
          "Menagerie",
          "Menagerie",
          "Menagerie",
          "Menagerie",
          "Menagerie",
          "Menagerie",
          "Menagerie",
          "Menagerie",
          "Menagerie",
          "Menagerie",
          "Menagerie",
          "Menagerie",
          "Menagerie",
          "Menagerie",
          "Plunder",
          "Plunder",
          "Plunder",
          "Plunder",
          "Plunder",
          "Plunder",
          "Plunder",
          "Plunder",
          "Plunder",
          "Plunder",
          "Plunder",
          "Plunder",
          "Plunder",
          "Plunder",
          "Plunder",
          "Plunder",
          "Plunder",
          "Plunder",
          "Plunder",
          "Plunder",
          "Plunder",
          "Plunder",
          "Plunder",
          "Plunder",
          "Plunder",
          "Plunder",
          "Plunder",
          "Plunder",
          "Plunder",
          "Plunder",
          "Plunder",
          "Plunder",
          "Plunder",
          "Plunder",
          "Plunder",
          "Plunder",
          "Plunder",
          "Plunder",
          "Plunder",
          "Plunder",
          "Plunder",
          "Nocturne",
          "Nocturne",
          "Nocturne",
          "Nocturne",
          "Nocturne",
          "Nocturne",
          "Nocturne",
          "Nocturne",
          "Nocturne",
          "Nocturne",
          "Nocturne",
          "Nocturne",
          "Nocturne",
          "Nocturne",
          "Nocturne",
          "Empires",
          "Empires",
          "Empires",
          "Empires",
          "Empires",
          "Empires",
          "Empires",
          "Empires",
          "Empires",
          "Empires",
          "Empires",
          "Empires",
          "Empires",
          "Empires",
          "Empires",
          "Empires",
          "Empires",
          "Allies",
          "Allies",
          "Allies",
          "Allies",
          "Allies",
          "Allies",
          "Allies",
          "Allies",
          "Allies",
          "Allies",
          "Allies",
          "Allies",
          "Allies",
          "Allies",
          "Allies",
          "Allies",
          "Allies",
          "Allies",
          "Allies",
          "Allies",
          "Allies",
          "Allies",
          "Allies",
          "Allies",
          "Allies",
          "Allies",
          "Allies",
          "Allies",
          "Rising Sun",
          "Rising Sun",
          "Rising Sun",
          "Rising Sun",
          "Rising Sun",
          "Rising Sun",
          "Rising Sun",
          "Rising Sun",
          "Rising Sun",
          "Rising Sun",
          "Rising Sun",
          "Rising Sun",
          "Rising Sun",
          "Rising Sun",
          "Rising Sun",
          "Rising Sun",
          "Hinterlands, 2E",
          "Hinterlands, 2E",
          "Hinterlands, 2E",
          "Hinterlands, 2E",
          "Hinterlands, 2E",
          "Hinterlands, 2E",
          "Hinterlands, 2E",
          "Renaissance",
          "Renaissance",
          "Renaissance",
          "Renaissance",
          "Renaissance",
          "Renaissance",
          "Renaissance",
          "Renaissance",
          "Renaissance",
          "Renaissance",
          "Renaissance",
          "Renaissance",
          "Adventures",
          "Adventures",
          "Adventures",
          "Adventures",
          "Adventures",
          "Adventures",
          "Adventures",
          "Adventures",
          "Adventures",
          "Adventures",
          "Adventures",
          "Adventures",
          "Adventures",
          "Adventures",
          "Adventures",
          "Adventures",
          "Cornucopia & Guilds, 2E",
          "Cornucopia & Guilds, 2E",
          "Cornucopia & Guilds, 2E",
          "Cornucopia & Guilds, 2E",
          "Cornucopia & Guilds, 2E",
          "Cornucopia & Guilds, 2E",
          "Cornucopia & Guilds, 2E",
          "Cornucopia & Guilds, 2E",
          "Dark Ages",
          "Dark Ages",
          "Dark Ages",
          "Dark Ages",
          "Dark Ages",
          "Dark Ages",
          "Dark Ages",
          "Dark Ages",
          "Dark Ages",
          "Dark Ages",
          "Dark Ages",
          "Seaside, 2E",
          "Seaside, 2E",
          "Seaside, 2E",
          "Seaside, 2E",
          "Seaside, 2E",
          "Seaside, 2E",
          "Seaside, 2E",
          "Seaside, 2E",
          "Intrigue, 2E",
          "Intrigue, 2E",
          "Intrigue, 2E",
          "Intrigue, 2E",
          "Intrigue, 1E",
          "Promo",
          "Prosperity, 2E",
          "Prosperity, 2E",
          "Promo",
          "Prosperity, 2E",
          "Promo",
          "Promo",
          "Hinterlands, 1E",
          "Prosperity, 1E",
          "Base, 2E",
          "Base, 2E",
          "Base, 2E",
          "Alchemy"
         ],
         "yaxis": "y"
        }
       ],
       "layout": {
        "barmode": "relative",
        "height": 800,
        "legend": {
         "tracegroupgap": 0
        },
        "margin": {
         "l": 20,
         "t": 60
        },
        "template": {
         "data": {
          "candlestick": [
           {
            "decreasing": {
             "line": {
              "color": "#000033"
             }
            },
            "increasing": {
             "line": {
              "color": "#000032"
             }
            },
            "type": "candlestick"
           }
          ],
          "contour": [
           {
            "colorscale": [
             [
              0,
              "#000011"
             ],
             [
              0.1111111111111111,
              "#000012"
             ],
             [
              0.2222222222222222,
              "#000013"
             ],
             [
              0.3333333333333333,
              "#000014"
             ],
             [
              0.4444444444444444,
              "#000015"
             ],
             [
              0.5555555555555556,
              "#000016"
             ],
             [
              0.6666666666666666,
              "#000017"
             ],
             [
              0.7777777777777778,
              "#000018"
             ],
             [
              0.8888888888888888,
              "#000019"
             ],
             [
              1,
              "#000020"
             ]
            ],
            "type": "contour"
           }
          ],
          "contourcarpet": [
           {
            "colorscale": [
             [
              0,
              "#000011"
             ],
             [
              0.1111111111111111,
              "#000012"
             ],
             [
              0.2222222222222222,
              "#000013"
             ],
             [
              0.3333333333333333,
              "#000014"
             ],
             [
              0.4444444444444444,
              "#000015"
             ],
             [
              0.5555555555555556,
              "#000016"
             ],
             [
              0.6666666666666666,
              "#000017"
             ],
             [
              0.7777777777777778,
              "#000018"
             ],
             [
              0.8888888888888888,
              "#000019"
             ],
             [
              1,
              "#000020"
             ]
            ],
            "type": "contourcarpet"
           }
          ],
          "heatmap": [
           {
            "colorscale": [
             [
              0,
              "#000011"
             ],
             [
              0.1111111111111111,
              "#000012"
             ],
             [
              0.2222222222222222,
              "#000013"
             ],
             [
              0.3333333333333333,
              "#000014"
             ],
             [
              0.4444444444444444,
              "#000015"
             ],
             [
              0.5555555555555556,
              "#000016"
             ],
             [
              0.6666666666666666,
              "#000017"
             ],
             [
              0.7777777777777778,
              "#000018"
             ],
             [
              0.8888888888888888,
              "#000019"
             ],
             [
              1,
              "#000020"
             ]
            ],
            "type": "heatmap"
           }
          ],
          "histogram2d": [
           {
            "colorscale": [
             [
              0,
              "#000011"
             ],
             [
              0.1111111111111111,
              "#000012"
             ],
             [
              0.2222222222222222,
              "#000013"
             ],
             [
              0.3333333333333333,
              "#000014"
             ],
             [
              0.4444444444444444,
              "#000015"
             ],
             [
              0.5555555555555556,
              "#000016"
             ],
             [
              0.6666666666666666,
              "#000017"
             ],
             [
              0.7777777777777778,
              "#000018"
             ],
             [
              0.8888888888888888,
              "#000019"
             ],
             [
              1,
              "#000020"
             ]
            ],
            "type": "histogram2d"
           }
          ],
          "icicle": [
           {
            "textfont": {
             "color": "white"
            },
            "type": "icicle"
           }
          ],
          "sankey": [
           {
            "textfont": {
             "color": "#000036"
            },
            "type": "sankey"
           }
          ],
          "scatter": [
           {
            "marker": {
             "line": {
              "width": 0
             }
            },
            "type": "scatter"
           }
          ],
          "table": [
           {
            "cells": {
             "fill": {
              "color": "#000038"
             },
             "font": {
              "color": "#000037"
             },
             "line": {
              "color": "#000039"
             }
            },
            "header": {
             "fill": {
              "color": "#000040"
             },
             "font": {
              "color": "#000036"
             },
             "line": {
              "color": "#000039"
             }
            },
            "type": "table"
           }
          ],
          "waterfall": [
           {
            "connector": {
             "line": {
              "color": "#000036",
              "width": 2
             }
            },
            "decreasing": {
             "marker": {
              "color": "#000033"
             }
            },
            "increasing": {
             "marker": {
              "color": "#000032"
             }
            },
            "totals": {
             "marker": {
              "color": "#000034"
             }
            },
            "type": "waterfall"
           }
          ]
         },
         "layout": {
          "coloraxis": {
           "colorscale": [
            [
             0,
             "#000011"
            ],
            [
             0.1111111111111111,
             "#000012"
            ],
            [
             0.2222222222222222,
             "#000013"
            ],
            [
             0.3333333333333333,
             "#000014"
            ],
            [
             0.4444444444444444,
             "#000015"
            ],
            [
             0.5555555555555556,
             "#000016"
            ],
            [
             0.6666666666666666,
             "#000017"
            ],
            [
             0.7777777777777778,
             "#000018"
            ],
            [
             0.8888888888888888,
             "#000019"
            ],
            [
             1,
             "#000020"
            ]
           ]
          },
          "colorscale": {
           "diverging": [
            [
             0,
             "#000021"
            ],
            [
             0.1,
             "#000022"
            ],
            [
             0.2,
             "#000023"
            ],
            [
             0.3,
             "#000024"
            ],
            [
             0.4,
             "#000025"
            ],
            [
             0.5,
             "#000026"
            ],
            [
             0.6,
             "#000027"
            ],
            [
             0.7,
             "#000028"
            ],
            [
             0.8,
             "#000029"
            ],
            [
             0.9,
             "#000030"
            ],
            [
             1,
             "#000031"
            ]
           ],
           "sequential": [
            [
             0,
             "#000011"
            ],
            [
             0.1111111111111111,
             "#000012"
            ],
            [
             0.2222222222222222,
             "#000013"
            ],
            [
             0.3333333333333333,
             "#000014"
            ],
            [
             0.4444444444444444,
             "#000015"
            ],
            [
             0.5555555555555556,
             "#000016"
            ],
            [
             0.6666666666666666,
             "#000017"
            ],
            [
             0.7777777777777778,
             "#000018"
            ],
            [
             0.8888888888888888,
             "#000019"
            ],
            [
             1,
             "#000020"
            ]
           ],
           "sequentialminus": [
            [
             0,
             "#000011"
            ],
            [
             0.1111111111111111,
             "#000012"
            ],
            [
             0.2222222222222222,
             "#000013"
            ],
            [
             0.3333333333333333,
             "#000014"
            ],
            [
             0.4444444444444444,
             "#000015"
            ],
            [
             0.5555555555555556,
             "#000016"
            ],
            [
             0.6666666666666666,
             "#000017"
            ],
            [
             0.7777777777777778,
             "#000018"
            ],
            [
             0.8888888888888888,
             "#000019"
            ],
            [
             1,
             "#000020"
            ]
           ]
          },
          "colorway": [
           "#000001",
           "#000002",
           "#000003",
           "#000004",
           "#000005",
           "#000006",
           "#000007",
           "#000008",
           "#000009",
           "#000010"
          ]
         }
        },
        "xaxis": {
         "anchor": "y",
         "domain": [
          0,
          1
         ],
         "title": {
          "text": "sum of Count"
         }
        },
        "yaxis": {
         "anchor": "x",
         "automargin": true,
         "domain": [
          0,
          1
         ],
         "title": {
          "text": "Expansion"
         }
        }
       }
      }
     },
     "metadata": {},
     "output_type": "display_data"
    }
   ],
   "source": [
    "interactions = rk.ALL_INTERACTIONS\n",
    "cso_counts = {cso: interactions[\"Card1\"].tolist().count(cso) + interactions[\"Card2\"].tolist().count(cso) for cso in  rk.ALL_CSOS.index}\n",
    "cso_counts = sorted(cso_counts.items(), key=lambda x: x[1], reverse=True)\n",
    "df = pd.DataFrame(cso_counts, columns=[\"CSO\", \"Count\"])\n",
    "df = df[df[\"Count\"] >= 1]\n",
    "df[\"CSO Name\"] = df[\"CSO\"].apply(lambda x: rk.ALL_CSOS.loc[x][\"Name\"])\n",
    "df[\"Expansion\"] = df[\"CSO\"].apply(lambda x: rk.ALL_CSOS.loc[x][\"Final Expansion\"]).astype(\"category\")\n",
    "df[\"Expansion count\"] = df[\"Expansion\"].map(lambda exp: np.sum(df[df[\"Expansion\"] == exp][\"Count\"]))\n",
    "df = df.sort_values([\"Expansion count\", \"Count\"], ascending=False)\n",
    "print(df)\n",
    "fig = px.histogram(df, x=\"Count\", y=\"Expansion\", orientation=\"h\", text_auto=True)\n",
    "fig.update_layout(\n",
    "    yaxis=dict(automargin=True),\n",
    "    margin=dict(l=20),\n",
    "    height=800,\n",
    ")\n",
    "fig.show()\n"
   ]
  },
  {
   "cell_type": "code",
   "execution_count": 268,
   "metadata": {},
   "outputs": [
    {
     "name": "stdout",
     "output_type": "stream",
     "text": [
      "Warning: piazza and samurai already have a rule.\n"
     ]
    }
   ],
   "source": [
    "\"River Shrine/not your turn stuff\"\n",
    "\"Livery/Fisherman\"\n",
    "\"Sheepdog/Gain to hand\"\n",
    "\"Grand Market/Counterfeit\"\n",
    "\"Overlord/Reserve cards - If you play Overlord as {card_b}, no card will move to your Tavern mat.\"\n",
    "\"Overlord/Crew - If you play Overlord as Crew, it will stay in play until the next turn, fail to topdeck itself, and is discarded during Clean-up of that turn.\"\n",
    "\"Landing Party/Band of Misfits|Overlord - The Band of Misfits/Overlord will get discarded during Clean-up after having played Landing Party.\"\n",
    "\"Conjurer/Band of Misfits|Overlord - The Band of Misfits/Overlord will get discarded during Clean-up after having played Conjurer.\"\n",
    "\"Scepter/Highwayman\"\n",
    "\"Summon/Reserve cards - beginning of turn effects of Reserve cards when Summoning them\"\n",
    "\"Crypt/Capital\"\n",
    "\"Loot/Changeling: You get to see the loot before deciding whether to exchange it for Changeling; if you do, it gets put back on top of the pile.\"\n",
    "\"Trail/BoN\"\n",
    "\"Siren/BoN/Trail\"\n",
    "\"Gatekeeper/Inn - If you gain an Inn while under the Gatekeeper attack (with no Inn in Exile), you need to Exile the gained Inn unless you shuffle it into your deck.\"\n",
    "\"Trickster/Capital doesn't work\"\n",
    "\"Sheepdog/Old Witch - If you draw a Curse while reacting to a Curse gain from Old Witch with Sheepdog, you able to trash that Curse.\"\n",
    "\"Snowy Village/Villager cards: Using Villagers after having played Snowy Village will not give you + Actions; you can however get Villagers and save them for later.\"\n",
    "\"Urchin/Throne variant - If you play Urchin with {throne}, since it is not *another* Action, you may not trash the Urchin to gain a Mercenary.\"\n",
    "\"Capitalism/Landing Party - If you play an Action that has been turned into a Treasure by Capitalism as the first card on your turn, your Landing Parties will be topdecked, even if that happens during your Action phase.\"\n",
    "\"Lich/Journey - If you play Lich and buy Journey, the Journey turn is skipped, but your cards remain in play until your opponent's clean-up\"\n",
    "\n",
    "\"Barbarian/Debt cost|<2P cost cards - trashes and turns them into Curse\"\n",
    "\"Elder/Catacombs\"\n",
    "\"Voyage/Black Market - Playing Treasures for BM during Voyage turn is limited by Voyage's restriction.\"\n",
    "\"Voyage/Trail - Playing Trail via its on-gain/on-trash/on-discard effect does not count as playing it from hand.\"\n",
    "\"Voyage/Weaver|Village Green - Playing {card_b} via its on-discard effect does not count as playing it from hand.\"\n",
    "\"Voyage/Courier|Herb Gatherer|Orb - Playing a card from your discard pile does not count as playing it from hand.\"\n",
    "\"Blockade/Moving the gained card interactions\"\n",
    "\"Mission/Black Market - You cannot buy cards from the Black Market during Mission turns.\"\n",
    "\"Scavenger|Chancellor|Messenger/Trail|Village Green|Weaver|Tunnel - Playing {card_a} with {card_b} in your deck does not count as discarding it.\"\n",
    "\"Elder/Catacombs: If you choose both options after playing Catacombs with Elder, you put the first 3 cards into your hand, discard them (from your hand), and draw 3 different cards.\"\n",
    "\"Stonemason/Potion - You can overpay with Potions in order to gain Action cards with Potion costs.\"\n",
    "\n",
    "# Self-reference stuff:\n",
    "\"Research trashing card costing $0 will make leave play the same turn\"\n",
    "\"Church setting aside nothing will make it stay in play for the next turn nonetheless\"\n",
    "\"Gear setting aside nothing will make it leave play the same turn\"\n",
    "\"Crypt setting aside nothing will make it leave play the same turn\"\n",
    "\"Tactician discarding nothing will make it leave play the same turn\"\n",
    "\"Cargo Ship setting aside nothing will make it leave play the same turn\"\n",
    "\"Playing Outpost on an Outpost turn will make it leave play the same turn\"\n",
    "\"Prince setting aside nothing will make it stay in play indefinitely\"\n",
    "\"Herald can topdeck itself as it's gained before the overpay stuff happens.\"\n",
    "\"Cauldron also counts cards played before playing Cauldron; if you have already gained more than 3 Action cards before playing it, it will fail to distribute Curses.\"\n",
    "\"Order of Astrologers - I know i can see the remaining cards while i'm choosing to topdeck. Can i also see while i'm deciding if i'm going to spend favors?\"\n",
    "\"Rush - Buying Rush more than once in a row will be useless, as the second Rush will not be able to play the gained card.\"\n"
   ]
  },
  {
   "cell_type": "markdown",
   "metadata": {},
   "source": [
    "## Initial data import\n",
    "\n",
    "We import and sanitize the data taken from nave's database spreadsheet."
   ]
  },
  {
   "cell_type": "code",
   "execution_count": 188,
   "metadata": {},
   "outputs": [],
   "source": [
    "man = rk.KingdomManager()\n",
    "man.load_tgg_dailies()\n",
    "man.dataframe_repr\n"
   ]
  },
  {
   "cell_type": "code",
   "execution_count": 189,
   "metadata": {},
   "outputs": [],
   "source": [
    "sub_df[df[\"winrate\"] != \"\"]\n",
    "cso_winrates = {}\n",
    "for on_play_cso in rk.ALL_CSOS.index:\n",
    "    subsub = sub_df[sub_df[\"cards\"].apply(lambda x: on_play_cso in x)]\n",
    "    if len(subsub) == 0:\n",
    "        continue\n",
    "    cso_winrates[on_play_cso] = subsub[\"winrate\"].tolist()\n"
   ]
  },
  {
   "cell_type": "code",
   "execution_count": 124,
   "metadata": {},
   "outputs": [
    {
     "name": "stdout",
     "output_type": "stream",
     "text": [
      "408 CSOs with no wr: chancellor, woodcutter, feast, spy, thief, adventurer, copper, silver, gold, estate, duchy, province, curse, secret_chamber, great_hall, coppersmith, scout, saboteur, tribute, embargo, pearl_diver, ambassador, navigator, pirate_ship, sea_hag, explorer, ghost_ship, transmute, potion, loan, trade_route, talisman, contraband, counting_house, mountebank, royal_seal, venture, goons, platinum, colony, fortune_teller, bag_of_gold, diadem, followers, princess, trusty_steed, duchess, oracle, noble_brigand, nomad_camp, silk_road, cache, embassy, ill-gotten_gains, mandarin, abandoned_mine, ruined_library, ruined_market, ruined_village, survivors, dame_anna, dame_josephine, dame_molly, dame_natalie, dame_sylvia, sir_bailey, sir_destry, sir_martin, sir_michael, sir_vander, madman, mercenary, spoils, hovel, necropolis, overgrown_estate, masterpiece, coronet, courser, demesne, housecarl, huge_turnip, renown, alms, borrow, quest, save, scouting_party, travelling_fair, bonfire, expedition, ferry, plan, mission, pilgrimage, ball, raid, seaway, trade, lost_arts, training, inheritance, pathfinding, soldier, fugitive, disciple, teacher, treasure_hunter, warrior, hero, champion, encampment, patrician, settlers, catapult, gladiator, rocks, bustling_village, emporium, plunder, fortune, humble_castle, crumbling_castle, small_castle, haunted_castle, opulent_castle, sprawling_castle, grand_castle, kings_castle, triumph, annex, donate, advance, delve, tax, banquet, ritual, salt_the_earth, wedding, windfall, conquest, dominate, aqueduct, arena, bandit_fort, basilica, battlefield, baths, colonnade, defiled_shrine, fountain, keep, labyrinth, mountain_pass, museum, obelisk, orchard, palace, tomb, tower, triumphal_arch, wall, wolf_den, will-o-wisp, wish, bat, imp, ghost, zombie_apprentice, zombie_mason, zombie_spy, haunted_mirror, magic_lamp, goat, pasture, pouch, cursed_gold, lucky_coin, the_earths_gift, the_fields_gift, the_flames_gift, the_forests_gift, the_moons_gift, the_mountains_gift, the_rivers_gift, the_seas_gift, the_skys_gift, the_suns_gift, the_swamps_gift, the_winds_gift, bad_omens, delusion, envy, famine, fear, greed, haunting, locusts, misery, plague, poverty, war, deluded, envious, lost_in_the_woods, miserable, twice_miserable, flag, horn, key, lantern, treasure_chest, cathedral, city_gate, pageant, sewers, star_chart, exploration, fair, silos, sinister_plot, academy, capitalism, fleet, guildhall, piazza, road_network, barracks, crop_rotation, innovation, canal, citadel, horse, delay, desperation, gamble, pursue, ride, toil, enhance, march, transport, banish, bargain, invest, seize_the_day, commerce, demand, stampede, reap, enclave, alliance, populate, way_of_the_butterfly, way_of_the_camel, way_of_the_chameleon, way_of_the_frog, way_of_the_goat, way_of_the_horse, way_of_the_mole, way_of_the_monkey, way_of_the_mouse, way_of_the_mule, way_of_the_otter, way_of_the_ox, way_of_the_owl, way_of_the_pig, way_of_the_rat, way_of_the_seal, way_of_the_sheep, way_of_the_squirrel, way_of_the_turtle, way_of_the_worm, town_crier, herb_gatherer, old_map, blacksmith, student, tent, battle_plan, acolyte, voyage, miller, conjurer, garrison, archer, sorceress, sunken_treasure, elder, sorcerer, hill_fort, warlord, sibyl, distant_shore, lich, stronghold, territory, architects_guild, band_of_nomads, cave_dwellers, circle_of_witches, city-state, coastal_haven, crafters_guild, desert_guides, family_of_inventors, fellowship_of_scribes, forest_dwellers, gang_of_pickpockets, island_folk, league_of_bankers, league_of_shopkeepers, market_towns, mountain_folk, order_of_astrologers, order_of_masons, peaceful_cult, plateau_shepherds, trappers_lodge, woodworkers_guild, amphora, doubloons, endless_chalice, figurehead, hammer, insignia, jewels, orb, prize_goat, puzzle_box, sextant, shield, spell_scroll, staff, sword, bury, avoid, deliver, peril, rush, foray, launch, mirror, prepare, scrounge, journey, maelstrom, looting, invasion, prosper, cheap, cursed, fated, fawning, friendly, hasty, inherited, inspiring, nearby, patient, pious, reckless, rich, shy, tireless, riverboat, river_shrine, kitsune, tea_house, continue, amass, asceticism, credit, foresight, kintsugi, practice, sea_trade, receive_tribute, gather, approaching_army, biding_time, bureaucracy, divine_wind, enlightenment, flourishing_trade, good_harvest, great_leader, growth, harsh_winter, kind_emperor, panic, progress, rapid_expansion, sickness, black_market, church, dismantle, envoy, sauna, walled_village, avanto, governor, stash, marchland, summon, captain, prince, sauna/avanto\n",
      "442 CSOs with winrate.\n"
     ]
    }
   ],
   "source": [
    "import numpy as np\n",
    "csos = rk.ALL_CSOS.copy()\n",
    "csos[\"WR\"] = [cso_winrates.get(cso) for cso in csos.index]\n",
    "nowr = csos[csos['WR'].isna()].index.tolist()\n",
    "print(f\"{len(nowr)} CSOs with no wr: {\", \".join(nowr)}\")\n",
    "print(f\"{len(csos) - len(nowr)} CSOs with winrate.\")\n",
    "csos = csos[csos[\"WR\"].notna()]\n",
    "csos[\"WR_mean\"] = csos[\"WR\"].apply(lambda x: np.mean(x) if x is not None else np.nan)\n",
    "csos[\"WR_std\"] = csos[\"WR\"].apply(lambda x: np.std(x) if x is not None else np.nan)\n",
    "csos[\"WR_len\"] = csos[\"WR\"].apply(lambda x: len(x) if x is not None else 0)\n",
    "csos = csos.sort_values(\"WR_mean\", ascending=False)\n"
   ]
  },
  {
   "cell_type": "code",
   "execution_count": 187,
   "metadata": {},
   "outputs": [
    {
     "name": "stderr",
     "output_type": "stream",
     "text": [
      "C:\\Users\\fabia\\AppData\\Local\\Temp\\ipykernel_1836\\565518589.py:20: UserWarning: set_ticklabels() should only be used with a fixed number of ticks, i.e. after set_ticks() or using a FixedLocator.\n",
      "  ax.set_xticklabels(subset[\"Name\"], rotation=40, ha=\"right\")\n"
     ]
    },
    {
     "data": {
      "image/png": "[encoded data removed]",
      "text/plain": [
       "<Figure size 666.667x400 with 2 Axes>"
      ]
     },
     "metadata": {},
     "output_type": "display_data"
    }
   ],
   "source": [
    "import matplotlib.pyplot as plt\n",
    "\n",
    "\n",
    "cmap = plt.get_cmap('viridis')\n",
    "\n",
    "subset = csos[csos[\"WR_len\"] > 5]\n",
    "# subset = csos[(csos[\"WR_mean\"] > 0.3) | (csos[\"WR_mean\"] < 0.1)]\n",
    "\n",
    "subset = pd.concat([subset.iloc[:10], subset.iloc[-10:]])\n",
    "\n",
    "fig, ax = plt.subplots(figsize=(len(subset)/3, 4))\n",
    "ax.errorbar(subset[\"Name\"], subset[\"WR_mean\"], yerr=subset[\"WR_std\"], fmt=\"o\", c=\"none\", ecolor=\"black\", alpha=0.5)\n",
    "cax = ax.scatter(subset[\"Name\"], subset[\"WR_mean\"], c=subset[\"WR_len\"], cmap=cmap, s=100, marker=\"o\", alpha=1)\n",
    "fig.colorbar(cax, label=\"Number of games w/ CSO in sample\")\n",
    "\n",
    "\n",
    "ax.set_ylabel(\"Winrate\")\n",
    "ax.set_title(\"Avg. winrates of players against Hard AI on first pass, by CSO\")\n",
    "ax.set_xticks(range(len(subset[\"Name\"])))\n",
    "ax.set_xticklabels(subset[\"Name\"], rotation=40, ha=\"right\")\n",
    "# Offset the xticklabels\n",
    "for label in ax.get_xticklabels():\n",
    "    label.set_position((label.get_position()[0] + 1, label.get_position()[1] + 0.01))  # Adjust the offset as needed\n",
    "ax.axhline()\n"
   ]
  },
  {
   "cell_type": "code",
   "execution_count": 200,
   "metadata": {},
   "outputs": [],
   "source": [
    "expansions = np.unique([exp for exps in sub_df[\"expansions\"] for exp in exps])\n",
    "exp_winrates = {}\n",
    "for exp in expansions:\n",
    "    subsub = sub_df[sub_df[\"expansions\"].apply(lambda x: exp in x)]\n",
    "    if len(subsub) == 0:\n",
    "        continue\n",
    "    exp_winrates[exp] = subsub[\"winrate\"].tolist()\n"
   ]
  },
  {
   "cell_type": "code",
   "execution_count": 202,
   "metadata": {},
   "outputs": [],
   "source": [
    "exp_pd.DataFrame(index=expansions)\n",
    "exp_df[\"Name\"] = exp_df.index\n",
    "exp_df[\"WR\"] = [exp_winrates.get(exp) for exp in exp_df.index]\n",
    "exp_df[\"WR_mean\"] = exp_df[\"WR\"].apply(lambda x: np.mean(x) if x is not None else np.nan)\n",
    "exp_df[\"WR_std\"] = exp_df[\"WR\"].apply(lambda x: np.std(x) if x is not None else np.nan)\n",
    "exp_df[\"WR_len\"] = exp_df[\"WR\"].apply(lambda x: len(x) if x is not None else 0)\n",
    "exp_exp_df.sort_values(\"WR_mean\", ascending=False)\n",
    "# exp_df\n"
   ]
  },
  {
   "cell_type": "code",
   "execution_count": 206,
   "metadata": {},
   "outputs": [
    {
     "data": {
      "image/png": "[encoded data removed]",
      "text/plain": [
       "<Figure size 1000x400 with 2 Axes>"
      ]
     },
     "metadata": {},
     "output_type": "display_data"
    }
   ],
   "source": [
    "subset = exp_df[~exp_df[\"Name\"].str.contains(\"1E\")]\n",
    "fig, ax = plt.subplots(figsize=(10, 4))\n",
    "\n",
    "ax.errorbar(subset[\"Name\"], subset[\"WR_mean\"], yerr=subset[\"WR_std\"], fmt=\"o\", c=\"none\", ecolor=\"black\", alpha=0.5)\n",
    "cax = ax.scatter(subset[\"Name\"], subset[\"WR_mean\"], c=subset[\"WR_len\"], cmap=cmap, s=100, marker=\"o\", alpha=1)\n",
    "fig.colorbar(cax, label=\"Number of games w/ exp in sample\")\n",
    "\n",
    "ax.set_ylabel(\"Winrate\")\n",
    "ax.set_title(\"Avg. winrates of players against Hard AI on first pass, by Expansion\")\n",
    "ax.set_xticks(range(len(subset[\"Name\"])))\n",
    "ax.set_xticklabels(subset[\"Name\"], rotation=40, ha=\"right\")\n",
    "# Offset the xticklabels\n",
    "for label in ax.get_xticklabels():\n",
    "    label.set_position((label.get_position()[0] + 1, label.get_position()[1] + 0.01))  # Adjust the offset as needed\n",
    "\n"
   ]
  },
  {
   "cell_type": "code",
   "execution_count": 216,
   "metadata": {},
   "outputs": [
    {
     "name": "stdout",
     "output_type": "stream",
     "text": [
      "add_interaction(\"band_of_misfits\", \"garrison\", \"If you play a Garrison using Band of Misfits, you can't put tokens on Garrison because it's not in play, and you don't put tokens on Band of Misfits either. This means it won't draw any cards next turn and will be discarded this turn.\", df)\n",
      "add_interaction(\"black_market\", \"encampment\", \"When you play an Encampment that came from the Black Market deck, if you don't reveal a Gold or Plunder, then you set aside the Encampment but since it has no pile to return to, it stays set aside for the rest of the game (it still counts as one of your cards for scoring).\", df)\n",
      "add_interaction(\"black_market\", \"experiment\", \"If you play an Experiment that was bought from the Black Market deck, you get +2 Cards and +1 Action, but it does not return to a pile. This is because Experiment does not have a pile to return to.\", df)\n",
      "add_interaction(\"black_market\", \"way_of_the_horse\", \"If you play a card from the Black Market deck using Way of the Horse, you get +2 Cards and +1 Action, but it does not return to a pile. This is because cards from the Black Market deck do not have a pile to return to.\", df)\n",
      "add_interaction(\"captain\", \"garrison\", \"If you play a Garrison using Captain, you can't put tokens on Garrison because it's not in play, and you don't put tokens on Captain either. This means it won't draw any cards next turn and will be discarded this turn.\", df)\n",
      "add_interaction(\"cargo_ship\", \"improve\", \"If you play a Cargo Ship and don't set anything aside with it before your Clean-up phase, Improve can trash it because it's going to be discarded as far as you know at that point. However, trashing a card from play does not negate its instructions, so you can still set aside the card you gain from Improve (or another card you gain that turn) through the instructions of Cargo Ship.\", df)\n",
      "add_interaction(\"city-state\", \"siren\", \"If you gain a Siren and use City-State to play the Siren, Siren no longer requires you to trash an action card from your hand in order to not trash the Siren.\", df)\n",
      "add_interaction(\"garrison\", \"inheritance\", \"If you play a Garrison using Inheritance, you can't put tokens on Garrison because it's not in play, and you don't put tokens on Estates either. This means it won't draw any cards next turn and will be discarded this turn.\", df)\n",
      "add_interaction(\"garrison\", \"overlord\", \"If you play a Garrison using Overlord, you can't put tokens on Garrison because it's not in play, and you don't put tokens on Overlord either. This means it won't draw any cards next turn and will be discarded this turn.\", df)\n",
      "add_interaction(\"innovation\", \"siren\", \"If you gain a Siren and use Innovation to play the Siren, Siren no longer requires you to trash an action card from your hand in order to not trash the Siren.\", df)\n",
      "add_interaction(\"moat\", \"soothsayer\", \"If an opponent plays Soothsayer and you gain a Curse and draw a Moat, it is too late for you to use that Moat to defend against the Soothsayer.\", df)\n",
      "add_interaction(\"priest\", \"sewers\", \"If you trash a card with Sewers in reaction to Priest's trash, Sewers does not give you the extra $2 from Priest's ability. This is because Sewers triggers after Priest's 'Trash a card from your hand' which is before 'For the rest of this turn, when you trash a card, + $2.'\", df)\n",
      "add_interaction(\"rush\", \"siren\", \"If you gain a Siren and use Rush to play the Siren, Siren no longer requires you to trash an action card from your hand in order to not trash the Siren.\", df)\n",
      "add_interaction(\"sailor\", \"siren\", \"If you gain a Siren and use Sailor to play the Siren, Siren no longer requires you to trash an action card from your hand in order to not trash the Siren.\", df)\n",
      "add_interaction(\"sheepdog\", \"soothsayer\", \"If an opponent plays Soothsayer and you gain a Curse, you may react with Sheepdogs. Once you're done reacting, you draw a card due to Soothsayer, and if that card is a Sheepdog, it is too late for you to react with that one.\", df)\n",
      "add_interaction(\"soothsayer\", \"watchtower\", \"If an opponent plays Soothsayer and you gain a Curse and draw a Watchtower, it is too late for you to react with that Watchtower to trash the Curse (or put the Curse onto your deck).\", df)\n",
      "add_interaction(\"souk\", \"way_of_the_chameleon\", \"If you play a Souk as Way of the Chameleon, you will draw 7 cards, and then after drawing lose $1 for each card you have in your hand, without going below $0. \", df)\n"
     ]
    }
   ],
   "source": [
    "\n",
    "\n",
    "pd.read_csv(\"./Dominion Rules Lookup - Database.csv\", header=0, skiprows=[1], index_col=0)\n",
    "\n",
    "df.dropna(how='all')\n",
    "\n",
    "stacked_df.stack()\n",
    "non_nan_pairs = stacked_df.to_dict()\n",
    "\n",
    "\n",
    "unique_keys = set()\n",
    "for k in non_nan_pairs.keys():\n",
    "    unique_keys.add(tuple(sorted(k)))\n",
    "\n",
    "full_text = \"\"\n",
    "for k in sorted(unique_keys):\n",
    "    assert non_nan_pairs[k] == non_nan_pairs[k[::-1]], f\"Key {k} is not symmetric\"\n",
    "    text = rk.sanitize_cso_name(k[0]) + \",\" + rk.sanitize_cso_name(k[1]) + f',\"{non_nan_pairs[k].replace(\"\\\"\", \"'\")}\"'\n",
    "    full_text += text + \"\\n\"\n",
    "\n",
    "cols = [\"Card1\", \"Card2\", \"Rule\"]\n",
    "pd.read_csv(StringIO(full_text.replace(\"’\", \"'\")), header=None, names=cols)\n",
    "df[\"ident\"] = df[\"Card1\"] + \"___\" + df[\"Card2\"]\n",
    "df.set_index(\"ident\", inplace=True)\n",
    "# df[df.index.str.contains(\"souk\")].iloc[0][\"Rule\"]\n",
    "text = df.apply(lambda x: f\"add_interaction(\\\"{x['Card1']}\\\", \\\"{x['Card2']}\\\", \\\"{x['Rule']}\\\", df)\", axis=1)\n",
    "text = \"\\n\".join(text)\n",
    "print(text)\n"
   ]
  }
 ],
 "metadata": {
  "kernelspec": {
   "display_name": "3_12_Dominion",
   "language": "python",
   "name": "python3"
  },
  "language_info": {
   "codemirror_mode": {
    "name": "ipython",
    "version": 3
   },
   "file_extension": ".py",
   "mimetype": "text/x-python",
   "name": "python",
   "nbconvert_exporter": "python",
   "pygments_lexer": "ipython3",
   "version": "3.12.5"
  }
 },
 "nbformat": 4,
 "nbformat_minor": 2
}
