{
 "cells": [
  {
   "cell_type": "code",
   "execution_count": 5,
   "metadata": {},
   "outputs": [],
   "source": [
    "import sys\n",
    "import numpy as np\n",
    "sys.path.append(\"../..\")\n",
    "import randomizer_modules as rm"
   ]
  },
  {
   "cell_type": "code",
   "execution_count": 29,
   "metadata": {},
   "outputs": [
    {
     "name": "stdout",
     "output_type": "stream",
     "text": [
      "The overall VillageQuality was 0 in the following expansions:\n",
      "['Base, 1E', 'Base, 2E', 'Hinterlands, 1E', 'Hinterlands, 2E', 'Plunder', 'Prosperity, 1E', 'Prosperity, 2E', 'Seaside, 1E', 'Seaside, 2E']\n",
      "Writing the file 'C:\\Users\\fabia\\OneDrive\\Dokumente\\Freizeit\\Dominion\\Dominion_randomizer\\card_info\\specifics\\temp_quals\\VillageQuality_temp.json'\n"
     ]
    }
   ],
   "source": [
    "qualities = [\"Attack\", \"Draw\", \"Interactivity\", \"Thinning\", \"Village\"]\n",
    "\n",
    "qual_name = qualities[4] + \"Quality\"\n",
    "\n",
    "\n",
    "fpath = rm.PATH_CARD_INFO.joinpath(f\"specifics/{qual_name}.json\")\n",
    "old_qualities = rm.read_json_dict_from_file(fpath)\n",
    "old_df = rm.read_dataframe_from_file(rm.FPATH_CARD_DATA,  eval_lists=True)\n",
    "\n",
    "# Filter for all expansions where the sum of the qualities is still 0:\n",
    "sum_of_qual_in_exp = old_df.groupby(\"Expansion\")[qual_name].sum()\n",
    "critical_expansions = sum_of_qual_in_exp[sum_of_qual_in_exp.values == 0].keys().to_list()\n",
    "print(f\"The overall {qual_name} was 0 in the following expansions:\\n{critical_expansions}\")\n",
    "subset = old_df[np.isin(old_df.Expansion, critical_expansions)]\n",
    "\n",
    "\n",
    "old_df_qualities = dict(zip(subset[\"Name\"], subset[qual_name])) | old_qualities\n",
    "\n",
    "\n",
    "# Approach: Copy dict, delete all irrelevant lines\n",
    "temp_fpath = rm.PATH_CARD_INFO.joinpath(\"specifics/temp_quals/\" + qual_name + \"_temp.json\")\n",
    "rm.write_dict_to_json_nicely(old_df_qualities, temp_fpath, sort=False)"
   ]
  },
  {
   "cell_type": "code",
   "execution_count": 31,
   "metadata": {},
   "outputs": [
    {
     "name": "stdout",
     "output_type": "stream",
     "text": [
      "Overwriting 'C:\\Users\\fabia\\OneDrive\\Dokumente\\Freizeit\\Dominion\\Dominion_randomizer\\card_info\\specifics\\VillageQuality.json'\n"
     ]
    }
   ],
   "source": [
    "# Copy the new qualities here\n",
    "new_qualities = rm.read_json_dict_from_file(temp_fpath)\n",
    "new_qualities = {key: val for key, val in new_qualities.items() if val != 0}\n",
    "# ! If you want to reset qualities to 0, set them manually here!\n",
    "\n",
    "old_qualities = rm.read_json_dict_from_file(fpath)\n",
    "combined_qualities = old_qualities | new_qualities\n",
    "combined_qualities = {key: val for key, val in combined_qualities.items() if val != 0}\n",
    "rm.write_dict_to_json_nicely(combined_qualities, fpath)"
   ]
  },
  {
   "cell_type": "code",
   "execution_count": 32,
   "metadata": {},
   "outputs": [
    {
     "name": "stdout",
     "output_type": "stream",
     "text": [
      "Overwriting 'C:\\Users\\fabia\\OneDrive\\Dokumente\\Freizeit\\Dominion\\Dominion_randomizer\\card_info\\good_card_data.csv'\n",
      "Successfully wrote the dominion cards to the file 'C:\\Users\\fabia\\OneDrive\\Dokumente\\Freizeit\\Dominion\\Dominion_randomizer\\card_info\\good_card_data.csv' in the current path.\n"
     ]
    }
   ],
   "source": [
    "# We can now also update the dataframe:\n",
    "\n",
    "df = rm.read_dataframe_from_file(rm.FPATH_RAW_DATA)\n",
    "df = rm.add_split_piles(df)\n",
    "df = rm.add_info_columns(df)\n",
    "rm.write_dataframe_to_file(df, rm.FPATH_CARD_DATA)\n"
   ]
  },
  {
   "cell_type": "code",
   "execution_count": 22,
   "metadata": {},
   "outputs": [
    {
     "data": {
      "text/plain": [
       "2"
      ]
     },
     "execution_count": 22,
     "metadata": {},
     "output_type": "execute_result"
    }
   ],
   "source": [
    "old_df.set_index(\"Name\").loc[\"Witch\"][qual_name]"
   ]
  },
  {
   "cell_type": "code",
   "execution_count": 30,
   "metadata": {},
   "outputs": [
    {
     "name": "stdout",
     "output_type": "stream",
     "text": [
      "## VillageQuality\n",
      "\n",
      "\n",
      "\n",
      "## Weak VillageQuality\n",
      "\n",
      "- Tribute\n",
      "- Necropolis\n",
      "- Silk Merchant\n",
      "- Scepter\n",
      "- Piazza\n",
      "- Innovation\n",
      "- Delay\n",
      "- Toil\n",
      "- March\n",
      "- Broker\n",
      "- Contract\n",
      "- Band of Nomads\n",
      "- City-state\n",
      "- League of Shopkeepers\n",
      "- Sauna\n",
      "- Prince\n",
      "- Knights\n",
      "- Sauna/Avanto\n",
      "- Wizards\n",
      "\n",
      "## Medium strength VillageQuality\n",
      "\n",
      "- Village\n",
      "- Throne Room\n",
      "- Festival\n",
      "- Shanty Town\n",
      "- Diplomat\n",
      "- Mining Village\n",
      "- Nobles\n",
      "- Native Village\n",
      "- Bazaar\n",
      "- University\n",
      "- Golem\n",
      "- Worker's Village\n",
      "- City\n",
      "- Hamlet\n",
      "- Farming Village\n",
      "- Crossroads\n",
      "- Inn\n",
      "- Border Village\n",
      "- Squire\n",
      "- Fortress\n",
      "- Ironmonger\n",
      "- Procession\n",
      "- Wandering Minstrel\n",
      "- Bandit Camp\n",
      "- Dame Molly\n",
      "- Madman\n",
      "- Herald\n",
      "- Plaza\n",
      "- Coin of the Realm\n",
      "- Page\n",
      "- Peasant\n",
      "- Lost City\n",
      "- Royal Carriage\n",
      "- Disciple\n",
      "- City Quarter\n",
      "- Encampment\n",
      "- Sacrifice\n",
      "- Villa\n",
      "- Crown\n",
      "- Ghost Town\n",
      "- Blessed Village\n",
      "- Conclave\n",
      "- Cursed Village\n",
      "- Lackeys\n",
      "- Acting Troupe\n",
      "- Hideout\n",
      "- Mountain Village\n",
      "- Exploration\n",
      "- Barracks\n",
      "- Citadel\n",
      "- Snowy Village\n",
      "- Hostelry\n",
      "- Hunting Lodge\n",
      "- Paddock\n",
      "- Way of the Ox\n",
      "- Merchant Camp\n",
      "- Royal Galley\n",
      "- Town\n",
      "- Capital City\n",
      "- Specialist\n",
      "- Lich\n",
      "- Walled Village\n",
      "- Encampment/Plunder\n",
      "- Settlers/Bustling Village\n",
      "\n",
      "## Strong VillageQuality\n",
      "\n",
      "- Fishing Village\n",
      "- King's Court\n",
      "- Trusty Steed\n",
      "- Port\n",
      "- Lost Arts\n",
      "- Teacher\n",
      "- Champion\n",
      "- Bustling Village\n",
      "- Recruiter\n",
      "- Academy\n",
      "- Village Green\n",
      "- Mastermind\n",
      "- Captain\n"
     ]
    }
   ],
   "source": [
    "df = rm.read_dataframe_from_file(rm.FPATH_CARD_DATA)\n",
    "md_text = \"\"\n",
    "md_text += f\"## {qual_name}\\n\\n\"\n",
    "for qual, strength in enumerate([\"Weak\", \"Medium strength\", \"Strong\"], start=1):\n",
    "    md_text += f\"\\n\\n## {strength} {qual_name}\\n\\n- \"\n",
    "    md_text += \"\\n- \".join(df[df[qual_name] == qual].Name.to_list())\n",
    "print(md_text)\n"
   ]
  }
 ],
 "metadata": {
  "kernelspec": {
   "display_name": "base",
   "language": "python",
   "name": "python3"
  },
  "language_info": {
   "codemirror_mode": {
    "name": "ipython",
    "version": 3
   },
   "file_extension": ".py",
   "mimetype": "text/x-python",
   "name": "python",
   "nbconvert_exporter": "python",
   "pygments_lexer": "ipython3",
   "version": "3.9.7"
  },
  "orig_nbformat": 4
 },
 "nbformat": 4,
 "nbformat_minor": 2
}
