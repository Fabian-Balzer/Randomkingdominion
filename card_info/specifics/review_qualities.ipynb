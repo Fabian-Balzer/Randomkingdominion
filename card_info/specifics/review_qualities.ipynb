{
 "cells": [
  {
   "cell_type": "code",
   "execution_count": 1,
   "metadata": {},
   "outputs": [],
   "source": [
    "import sys\n",
    "import numpy as np\n",
    "sys.path.append(\"../..\")\n",
    "import randomizer_modules as rm"
   ]
  },
  {
   "cell_type": "code",
   "execution_count": 2,
   "metadata": {},
   "outputs": [
    {
     "name": "stdout",
     "output_type": "stream",
     "text": [
      "The overall DrawQuality was 0 in the following expansions:\n",
      "['Adventures', 'Alchemy', 'Allies', 'Base', 'Base, 1E', 'Base, 2E', 'Cornucopia', 'Dark Ages', 'Empires', 'Guilds', 'Hinterlands', 'Hinterlands, 1E', 'Hinterlands, 2E', 'Intrigue', 'Intrigue, 1E', 'Intrigue, 2E', 'Menagerie', 'Nocturne', 'Plunder', 'Promo', 'Prosperity', 'Prosperity, 1E', 'Prosperity, 2E', 'Renaissance', 'Seaside', 'Seaside, 1E', 'Seaside, 2E']\n",
      "Skipped writing 'C:\\Users\\fabia\\OneDrive\\Dokumente\\Freizeit\\Dominion\\Dominion_randomizer\\card_info\\specifics\\temp_quals\\DrawQuality_temp.json' as it already existed.\n"
     ]
    }
   ],
   "source": [
    "qualities = [\"Attack\", \"Draw\", \"Interactivity\", \"Thinning\", \"Village\"]\n",
    "\n",
    "qual_name = qualities[1] + \"Quality\"\n",
    "\n",
    "\n",
    "fpath = rm.PATH_CARD_INFO.joinpath(f\"specifics/{qual_name}.json\")\n",
    "old_qualities = rm.read_json_dict_from_file(fpath)\n",
    "old_df = rm.read_dataframe_from_file(rm.FPATH_CARD_DATA,  eval_lists=True)\n",
    "\n",
    "# Filter for all expansions where the sum of the qualities is still 0:\n",
    "sum_of_qual_in_exp = old_df.groupby(\"Expansion\")[qual_name].sum()\n",
    "critical_expansions = sum_of_qual_in_exp[sum_of_qual_in_exp.values == 0].keys().to_list()\n",
    "print(f\"The overall {qual_name} was 0 in the following expansions:\\n{critical_expansions}\")\n",
    "subset = old_df[np.isin(old_df.Expansion, critical_expansions)]\n",
    "\n",
    "\n",
    "old_df_qualities = dict(zip(subset[\"Name\"], subset[qual_name])) | old_qualities\n",
    "\n",
    "\n",
    "# Approach: Copy dict, delete all irrelevant lines\n",
    "temp_fpath = rm.PATH_CARD_INFO.joinpath(\"specifics/temp_quals/\" + qual_name + \"_temp.json\")\n",
    "rm.write_dict_to_json_nicely(old_df_qualities, temp_fpath, sort=False)"
   ]
  },
  {
   "cell_type": "code",
   "execution_count": 29,
   "metadata": {},
   "outputs": [
    {
     "name": "stdout",
     "output_type": "stream",
     "text": [
      "Overwriting 'DrawQuality.json'\n"
     ]
    }
   ],
   "source": [
    "# Copy the new qualities here\n",
    "new_qualities = rm.read_json_dict_from_file(temp_fpath)\n",
    "new_qualities = {key: val for key, val in new_qualities.items() if val != 0}\n",
    "# ! If you want to reset qualities to 0, set them manually here!\n",
    "\n",
    "old_qualities = rm.read_json_dict_from_file(fpath)\n",
    "combined_qualities = old_qualities | new_qualities\n",
    "combined_qualities = {key: val for key, val in combined_qualities.items() if val != 0}\n",
    "rm.write_dict_to_json_nicely(combined_qualities, fpath)"
   ]
  },
  {
   "cell_type": "code",
   "execution_count": 3,
   "metadata": {},
   "outputs": [
    {
     "name": "stdout",
     "output_type": "stream",
     "text": [
      "Overwriting 'C:\\Users\\fabia\\OneDrive\\Dokumente\\Freizeit\\Dominion\\Dominion_randomizer\\card_info\\good_card_data.csv'\n",
      "Successfully wrote the dominion cards to the file 'C:\\Users\\fabia\\OneDrive\\Dokumente\\Freizeit\\Dominion\\Dominion_randomizer\\card_info\\good_card_data.csv' in the current path.\n"
     ]
    }
   ],
   "source": [
    "# We can now also update the dataframe:\n",
    "\n",
    "df = rm.read_dataframe_from_file(rm.FPATH_RAW_DATA)\n",
    "df = rm.add_split_piles(df)\n",
    "df = rm.add_info_columns(df)\n",
    "rm.write_dataframe_to_file(df, rm.FPATH_CARD_DATA)\n"
   ]
  },
  {
   "cell_type": "code",
   "execution_count": 28,
   "metadata": {},
   "outputs": [
    {
     "data": {
      "text/plain": [
       "3"
      ]
     },
     "execution_count": 28,
     "metadata": {},
     "output_type": "execute_result"
    }
   ],
   "source": [
    "old_df.set_index(\"Name\").loc[\"Watchtower\"][qual_name]"
   ]
  }
 ],
 "metadata": {
  "kernelspec": {
   "display_name": "base",
   "language": "python",
   "name": "python3"
  },
  "language_info": {
   "codemirror_mode": {
    "name": "ipython",
    "version": 3
   },
   "file_extension": ".py",
   "mimetype": "text/x-python",
   "name": "python",
   "nbconvert_exporter": "python",
   "pygments_lexer": "ipython3",
   "version": "3.9.7"
  },
  "orig_nbformat": 4
 },
 "nbformat": 4,
 "nbformat_minor": 2
}
