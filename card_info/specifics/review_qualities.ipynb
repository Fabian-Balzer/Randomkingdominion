{
 "cells": [
  {
   "cell_type": "code",
   "execution_count": 5,
   "metadata": {},
   "outputs": [],
   "source": [
    "import sys\n",
    "import numpy as np\n",
    "sys.path.append(\"../..\")\n",
    "import randomizer_modules as rm"
   ]
  },
  {
   "cell_type": "code",
   "execution_count": 25,
   "metadata": {},
   "outputs": [
    {
     "name": "stdout",
     "output_type": "stream",
     "text": [
      "The overall ThinningQuality was 0 in the following expansions:\n",
      "['Base, 1E', 'Hinterlands, 1E', 'Hinterlands, 2E', 'Intrigue, 1E', 'Plunder', 'Prosperity, 2E', 'Seaside, 2E']\n",
      "Writing the file 'C:\\Users\\fabia\\OneDrive\\Dokumente\\Freizeit\\Dominion\\Dominion_randomizer\\card_info\\specifics\\temp_quals\\ThinningQuality_temp.json'\n"
     ]
    }
   ],
   "source": [
    "qualities = [\"Attack\", \"Draw\", \"Interactivity\", \"Thinning\", \"Village\"]\n",
    "\n",
    "qual_name = qualities[3] + \"Quality\"\n",
    "\n",
    "\n",
    "fpath = rm.PATH_CARD_INFO.joinpath(f\"specifics/{qual_name}.json\")\n",
    "old_qualities = rm.read_json_dict_from_file(fpath)\n",
    "old_df = rm.read_dataframe_from_file(rm.FPATH_CARD_DATA,  eval_lists=True)\n",
    "\n",
    "# Filter for all expansions where the sum of the qualities is still 0:\n",
    "sum_of_qual_in_exp = old_df.groupby(\"Expansion\")[qual_name].sum()\n",
    "critical_expansions = sum_of_qual_in_exp[sum_of_qual_in_exp.values == 0].keys().to_list()\n",
    "print(f\"The overall {qual_name} was 0 in the following expansions:\\n{critical_expansions}\")\n",
    "subset = old_df[np.isin(old_df.Expansion, critical_expansions)]\n",
    "\n",
    "\n",
    "old_df_qualities = dict(zip(subset[\"Name\"], subset[qual_name])) | old_qualities\n",
    "\n",
    "\n",
    "# Approach: Copy dict, delete all irrelevant lines\n",
    "temp_fpath = rm.PATH_CARD_INFO.joinpath(\"specifics/temp_quals/\" + qual_name + \"_temp.json\")\n",
    "rm.write_dict_to_json_nicely(old_df_qualities, temp_fpath, sort=False)"
   ]
  },
  {
   "cell_type": "code",
   "execution_count": 27,
   "metadata": {},
   "outputs": [
    {
     "name": "stdout",
     "output_type": "stream",
     "text": [
      "Overwriting 'C:\\Users\\fabia\\OneDrive\\Dokumente\\Freizeit\\Dominion\\Dominion_randomizer\\card_info\\specifics\\ThinningQuality.json'\n"
     ]
    }
   ],
   "source": [
    "# Copy the new qualities here\n",
    "new_qualities = rm.read_json_dict_from_file(temp_fpath)\n",
    "new_qualities = {key: val for key, val in new_qualities.items() if val != 0}\n",
    "# ! If you want to reset qualities to 0, set them manually here!\n",
    "\n",
    "old_qualities = rm.read_json_dict_from_file(fpath)\n",
    "combined_qualities = old_qualities | new_qualities\n",
    "combined_qualities = {key: val for key, val in combined_qualities.items() if val != 0}\n",
    "rm.write_dict_to_json_nicely(combined_qualities, fpath)"
   ]
  },
  {
   "cell_type": "code",
   "execution_count": 28,
   "metadata": {},
   "outputs": [
    {
     "name": "stdout",
     "output_type": "stream",
     "text": [
      "Overwriting 'C:\\Users\\fabia\\OneDrive\\Dokumente\\Freizeit\\Dominion\\Dominion_randomizer\\card_info\\good_card_data.csv'\n",
      "Successfully wrote the dominion cards to the file 'C:\\Users\\fabia\\OneDrive\\Dokumente\\Freizeit\\Dominion\\Dominion_randomizer\\card_info\\good_card_data.csv' in the current path.\n"
     ]
    }
   ],
   "source": [
    "# We can now also update the dataframe:\n",
    "\n",
    "df = rm.read_dataframe_from_file(rm.FPATH_RAW_DATA)\n",
    "df = rm.add_split_piles(df)\n",
    "df = rm.add_info_columns(df)\n",
    "rm.write_dataframe_to_file(df, rm.FPATH_CARD_DATA)\n"
   ]
  },
  {
   "cell_type": "code",
   "execution_count": 22,
   "metadata": {},
   "outputs": [
    {
     "data": {
      "text/plain": [
       "2"
      ]
     },
     "execution_count": 22,
     "metadata": {},
     "output_type": "execute_result"
    }
   ],
   "source": [
    "old_df.set_index(\"Name\").loc[\"Witch\"][qual_name]"
   ]
  },
  {
   "cell_type": "code",
   "execution_count": 26,
   "metadata": {},
   "outputs": [
    {
     "name": "stdout",
     "output_type": "stream",
     "text": [
      "## ThinningQuality\n",
      "\n",
      "\n",
      "\n",
      "## Weak ThinningQuality\n",
      "\n",
      "- Mine\n",
      "- Island\n",
      "- Transmute\n",
      "- Trade Route\n",
      "- Develop\n",
      "- Jack of All Trades\n",
      "- Hermit\n",
      "- Graverobber\n",
      "- Rebuild\n",
      "- Taxman\n",
      "- Butcher\n",
      "- Miser\n",
      "- Transmogrify\n",
      "- Trade\n",
      "- Small Castle\n",
      "- Ritual\n",
      "- Locusts\n",
      "- War\n",
      "- Improve\n",
      "- Enhance\n",
      "- Carpenter\n",
      "- Swap\n",
      "- Acolyte\n",
      "- Dismantle\n",
      "- Governor\n",
      "- Knights\n",
      "- Augurs\n",
      "\n",
      "## Medium strength ThinningQuality\n",
      "\n",
      "- Moneylender\n",
      "- Remodel\n",
      "- Masquerade\n",
      "- Replace\n",
      "- Trading Post\n",
      "- Upgrade\n",
      "- Lookout\n",
      "- Salvager\n",
      "- Treasure Map\n",
      "- Apprentice\n",
      "- Loan\n",
      "- Bishop\n",
      "- Mint\n",
      "- Expand\n",
      "- Spice Merchant\n",
      "- Trader\n",
      "- Farmland\n",
      "- Forager\n",
      "- Urchin\n",
      "- Death Cart\n",
      "- Rats\n",
      "- Count\n",
      "- Counterfeit\n",
      "- Junk Dealer\n",
      "- Altar\n",
      "- Stonemason\n",
      "- Ratcatcher\n",
      "- Raze\n",
      "- Amulet\n",
      "- Bonfire\n",
      "- Plan\n",
      "- Catapult\n",
      "- Sacrifice\n",
      "- Advance\n",
      "- Cemetery\n",
      "- Exorcist\n",
      "- Pooka\n",
      "- Vampire\n",
      "- Zombie Apprentice\n",
      "- Zombie Mason\n",
      "- Goat\n",
      "- The Flame's Gift\n",
      "- Ducat\n",
      "- Hideout\n",
      "- Priest\n",
      "- Research\n",
      "- Recruiter\n",
      "- Treasurer\n",
      "- Sewers\n",
      "- Goatherd\n",
      "- Scrap\n",
      "- Bounty Hunter\n",
      "- Displace\n",
      "- Sanctuary\n",
      "- Way of the Goat\n",
      "- Broker\n",
      "- Modify\n",
      "- Student\n",
      "- Woodworkers' Guild\n",
      "- Church\n",
      "- Sauna\n",
      "- Catapult/Rocks\n",
      "- Sauna/Avanto\n",
      "- Wizards\n",
      "\n",
      "## Strong ThinningQuality\n",
      "\n",
      "- Chapel\n",
      "- Sentry\n",
      "- Steward\n",
      "- Ambassador\n",
      "- Forge\n",
      "- Remake\n",
      "- Dame Anna\n",
      "- Mercenary\n",
      "- Doctor\n",
      "- Temple\n",
      "- Donate\n",
      "- Monastery\n",
      "- Bat\n",
      "- Cathedral\n",
      "- Banish\n",
      "- Sentinel\n",
      "- Peaceful Cult\n"
     ]
    }
   ],
   "source": [
    "df = rm.read_dataframe_from_file(rm.FPATH_CARD_DATA)\n",
    "md_text = \"\"\n",
    "md_text += f\"## {qual_name}\\n\\n\"\n",
    "for qual, strength in enumerate([\"Weak\", \"Medium strength\", \"Strong\"], start=1):\n",
    "    md_text += f\"\\n\\n## {strength} {qual_name}\\n\\n- \"\n",
    "    md_text += \"\\n- \".join(df[df[qual_name] == qual].Name.to_list())\n",
    "print(md_text)\n"
   ]
  }
 ],
 "metadata": {
  "kernelspec": {
   "display_name": "base",
   "language": "python",
   "name": "python3"
  },
  "language_info": {
   "codemirror_mode": {
    "name": "ipython",
    "version": 3
   },
   "file_extension": ".py",
   "mimetype": "text/x-python",
   "name": "python",
   "nbconvert_exporter": "python",
   "pygments_lexer": "ipython3",
   "version": "3.9.7"
  },
  "orig_nbformat": 4
 },
 "nbformat": 4,
 "nbformat_minor": 2
}
