{
 "cells": [
  {
   "cell_type": "markdown",
   "metadata": {},
   "source": [
    "# Start Gui\n",
    "\n",
    "This notebook can be used to start the GUI and test out stuff."
   ]
  },
  {
   "cell_type": "code",
   "execution_count": 13,
   "metadata": {},
   "outputs": [],
   "source": [
    "# -*- coding: utf-8 -*-\n",
    "\"\"\"\n",
    "@author: Fabian Balzer\n",
    "\n",
    "***\n",
    "LICENSE:\n",
    "    Copyright 2021 Fabian Balzer\n",
    "\n",
    "   Licensed under the Apache License, Version 2.0 (the \"License\");\n",
    "   you may not use this file except in compliance with the License.\n",
    "   You may obtain a copy of the License at\n",
    "\n",
    "     http://www.apache.org/licenses/LICENSE-2.0\n",
    "\n",
    "   Unless required by applicable law or agreed to in writing, software\n",
    "   distributed under the License is distributed on an \"AS IS\" BASIS,\n",
    "   WITHOUT WARRANTIES OR CONDITIONS OF ANY KIND, either express or implied.\n",
    "   See the License for the specific language governing permissions and\n",
    "   limitations under the License.\n",
    "***\n",
    "\n",
    "Code to open a GUI Dominion randomizer\n",
    "\"\"\"\n",
    "# %%\n",
    "\n",
    "import sys\n",
    "import random_kingdominion as rm\n",
    "import PyQt5.QtWidgets as QW\n",
    "\n",
    "\n",
    "def start_program():\n",
    "    \"\"\"A function to include everything needed to start the application\"\"\"\n",
    "    # Check whether there is already a running QApplication (e.g. if running\n",
    "    # from an IDE). This setup prevents crashes for the next run:\n",
    "    qapp = QW.QApplication.instance()\n",
    "    if not qapp:\n",
    "        qapp = QW.QApplication(sys.argv)\n",
    "    app = rm.UIMainWindow()  # creating the instance\n",
    "    app.show()\n",
    "    app.activateWindow()\n",
    "    qapp.exec_()  # Start the Qt event loop\n",
    "\n"
   ]
  },
  {
   "cell_type": "code",
   "execution_count": 23,
   "metadata": {},
   "outputs": [],
   "source": [
    "\n",
    "start_program()"
   ]
  },
  {
   "cell_type": "code",
   "execution_count": 6,
   "metadata": {},
   "outputs": [
    {
     "name": "stdout",
     "output_type": "stream",
     "text": [
      "535 µs ± 3.39 µs per loop (mean ± std. dev. of 7 runs, 1,000 loops each)\n",
      "5.47 ms ± 99.3 µs per loop (mean ± std. dev. of 7 runs, 100 loops each)\n"
     ]
    }
   ],
   "source": [
    "import random_kingdominion as rk\n",
    "import os\n",
    "import pandas as pd\n",
    "import numpy as np\n",
    "from typing import Sequence\n",
    "\n",
    "\n",
    "def read_dataframe_from_file(fpath: str, eval_lists=False):\n",
    "    \"\"\"Read a dataframe\"\"\"\n",
    "    if os.path.isfile(fpath):\n",
    "        df = pd.read_csv(fpath, sep=\";\", header=0)\n",
    "        if eval_lists:\n",
    "            for colname in df.columns:\n",
    "                if \"type\" in colname.lower():\n",
    "                    # Make sure we properly handle lists\n",
    "                    df[colname] = df[colname].apply(eval)\n",
    "    else:\n",
    "        raise FileNotFoundError(\n",
    "            2, \"Couldn't find the raw card data file, please download it first.\"\n",
    "        )\n",
    "    return df\n",
    "from functools import reduce\n",
    "df = read_dataframe_from_file(rk.FPATH_CARD_DATA, True)\n",
    "names = rk.ALL_CSOS[\"Name\"].sample(200).values"
   ]
  },
  {
   "cell_type": "code",
   "execution_count": 1,
   "metadata": {},
   "outputs": [
    {
     "data": {
      "text/plain": [
       "0"
      ]
     },
     "execution_count": 1,
     "metadata": {},
     "output_type": "execute_result"
    }
   ],
   "source": [
    "from PyQt5.QtCore import Qt, QStringListModel, QPoint\n",
    "from PyQt5.QtGui import QIcon, QStandardItemModel, QPalette, QTextCursor, QTextCharFormat, QCursor\n",
    "from PyQt5.QtWidgets import QApplication, QWidget, QHBoxLayout, QLineEdit, QPushButton, QVBoxLayout, QMainWindow, QCompleter, QTextEdit,QLabel, QFrame\n",
    "from typing import Sequence\n",
    "from random_kingdominion.constants import ALL_CSOS\n",
    "\n",
    "\n",
    "\n",
    "\n",
    "class MyMainWindow(QMainWindow):\n",
    "    def __init__(self):\n",
    "        super().__init__()\n",
    "        self.initUI()\n",
    "\n",
    "    def initUI(self):\n",
    "        # Create a central widget\n",
    "        centralWidget = QWidget(self)\n",
    "        self.setCentralWidget(centralWidget)\n",
    "\n",
    "        # Create a layout for the central widget\n",
    "        layout = QVBoxLayout()\n",
    "\n",
    "        # Create the ValidatingLineEditWidget\n",
    "        self.validatingLineEditWidget = CSVValidationWidget()\n",
    "        layout.addWidget(self.validatingLineEditWidget)\n",
    "        self.validatingLineEditWidget.set_allowed_csos(set(ALL_CSOS.Name))\n",
    "\n",
    "        # Set the layout for the central widget\n",
    "        centralWidget.setLayout(layout)\n",
    "\n",
    "        # Set window properties\n",
    "        self.setWindowTitle('Main Window with ValidatingLineEditWidget')\n",
    "        self.setGeometry(100, 100, 400, 200)\n",
    "\n",
    "qapp = QApplication.instance()\n",
    "if not qapp:\n",
    "    qapp = QApplication(sys.argv)\n",
    "app = MyMainWindow()  # creating the instance\n",
    "app.show()\n",
    "app.activateWindow()\n",
    "qapp.exec_()  # Start the Qt event loop"
   ]
  },
  {
   "cell_type": "code",
   "execution_count": null,
   "metadata": {},
   "outputs": [],
   "source": []
  }
 ],
 "metadata": {
  "kernelspec": {
   "display_name": "base",
   "language": "python",
   "name": "python3"
  },
  "language_info": {
   "codemirror_mode": {
    "name": "ipython",
    "version": 3
   },
   "file_extension": ".py",
   "mimetype": "text/x-python",
   "name": "python",
   "nbconvert_exporter": "python",
   "pygments_lexer": "ipython3",
   "version": "3.11.4"
  },
  "orig_nbformat": 4
 },
 "nbformat": 4,
 "nbformat_minor": 2
}
