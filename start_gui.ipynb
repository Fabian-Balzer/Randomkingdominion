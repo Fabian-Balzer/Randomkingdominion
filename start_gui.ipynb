{
 "cells": [
  {
   "cell_type": "markdown",
   "metadata": {},
   "source": [
    "# Start Gui\n",
    "\n",
    "This notebook can be used to start the GUI and test out stuff."
   ]
  },
  {
   "cell_type": "code",
   "execution_count": 9,
   "metadata": {},
   "outputs": [],
   "source": [
    "import randomizer_modules as rm\n"
   ]
  },
  {
   "cell_type": "code",
   "execution_count": 60,
   "metadata": {},
   "outputs": [],
   "source": [
    "# -*- coding: utf-8 -*-\n",
    "\"\"\"\n",
    "@author: Fabian Balzer\n",
    "\n",
    "***\n",
    "LICENSE:\n",
    "    Copyright 2021 Fabian Balzer\n",
    "\n",
    "   Licensed under the Apache License, Version 2.0 (the \"License\");\n",
    "   you may not use this file except in compliance with the License.\n",
    "   You may obtain a copy of the License at\n",
    "\n",
    "     http://www.apache.org/licenses/LICENSE-2.0\n",
    "\n",
    "   Unless required by applicable law or agreed to in writing, software\n",
    "   distributed under the License is distributed on an \"AS IS\" BASIS,\n",
    "   WITHOUT WARRANTIES OR CONDITIONS OF ANY KIND, either express or implied.\n",
    "   See the License for the specific language governing permissions and\n",
    "   limitations under the License.\n",
    "***\n",
    "\n",
    "Code to open a GUI Dominion randomizer\n",
    "\"\"\"\n",
    "# %%\n",
    "\n",
    "import sys\n",
    "\n",
    "import PyQt5.QtWidgets as QW\n",
    "from randomizer_modules.main_ui import UIMainWindow\n",
    "\n",
    "\n",
    "def start_program():\n",
    "    \"\"\"A function to include everything needed to start the application\"\"\"\n",
    "    # Check whether there is already a running QApplication (e.g. if running\n",
    "    # from an IDE). This setup prevents crashes for the next run:\n",
    "    qapp = QW.QApplication.instance()\n",
    "    if not qapp:\n",
    "        qapp = QW.QApplication(sys.argv)\n",
    "    app = UIMainWindow()  # creating the instance\n",
    "    app.show()\n",
    "    qapp.exec_()  # Start the Qt event loop\n",
    "\n"
   ]
  },
  {
   "cell_type": "code",
   "execution_count": 70,
   "metadata": {},
   "outputs": [
    {
     "name": "stdout",
     "output_type": "stream",
     "text": [
      "Could not find any more cards/landscapes to draw from.\n",
      "Could not find any more cards/landscapes to draw from.\n",
      "Could not find any more cards/landscapes to draw from.\n",
      "Could not find any more cards/landscapes to draw from.\n",
      "Could not find any more cards/landscapes to draw from.\n",
      "Could not find any more cards/landscapes to draw from.\n",
      "Could not find any more cards/landscapes to draw from.\n",
      "Could not find any more cards/landscapes to draw from.\n",
      "Could not find any more cards/landscapes to draw from.\n",
      "Could not find any more cards/landscapes to draw from.\n",
      "Could not find any more cards/landscapes to draw from.\n",
      "Could not find any more cards/landscapes to draw from.\n",
      "Could not find any more cards/landscapes to draw from.\n",
      "Could not find any more cards/landscapes to draw from.\n",
      "Could not find any more cards/landscapes to draw from.\n",
      "Could not find any more cards/landscapes to draw from.\n",
      "Could not find any more cards/landscapes to draw from.\n",
      "Could not find any more cards/landscapes to draw from.\n",
      "Could not find any more cards/landscapes to draw from.\n",
      "Could not find any more cards/landscapes to draw from.\n",
      "Could not find any more cards/landscapes to draw from.\n",
      "Could not find any more cards/landscapes to draw from.\n",
      "Could not find any more cards/landscapes to draw from.\n",
      "Could not find any more cards/landscapes to draw from.\n",
      "Could not find any more cards/landscapes to draw from.\n",
      "Could not find any more cards/landscapes to draw from.\n",
      "Could not find any more cards/landscapes to draw from.\n",
      "Could not find any more cards/landscapes to draw from.\n",
      "Could not find any more cards/landscapes to draw from.\n",
      "Could not find any more cards/landscapes to draw from.\n",
      "Could not find any more cards/landscapes to draw from.\n",
      "Could not find any more cards/landscapes to draw from.\n",
      "Could not find any more cards/landscapes to draw from.\n"
     ]
    }
   ],
   "source": [
    "start_program()"
   ]
  },
  {
   "cell_type": "code",
   "execution_count": 46,
   "metadata": {},
   "outputs": [
    {
     "data": {
      "text/plain": [
       "WindowsPath('C:/Users/fabia/OneDrive/Dokumente/Freizeit/Dominion/Dominion_randomizer/card_pictures/Base/Cellar.jpg')"
      ]
     },
     "execution_count": 46,
     "metadata": {},
     "output_type": "execute_result"
    }
   ],
   "source": [
    "df = rm.read_dataframe_from_file(rm.FPATH_CARD_DATA, True)\n",
    "\n",
    "type(df[\"attack_types\"].iloc[0])\n",
    "path = rm.PATH_MAIN.joinpath(df.iloc[0][\"ImagePath\"])\n",
    "path"
   ]
  },
  {
   "cell_type": "code",
   "execution_count": 59,
   "metadata": {},
   "outputs": [],
   "source": [
    "path = 'C:/Users/fabia/OneDrive/Dokumente/Freizeit/Dominion/Dominion_randomizer/card_pictures/Base/Cellar.jpg'\n",
    "import sys\n",
    "import randomizer_modules as rm\n",
    "df = rm.read_dataframe_from_file(rm.FPATH_CARD_DATA, True)\n",
    "import numpy as np\n",
    "from randomizer_modules.base_widgets import CoolButton\n",
    "from PyQt5.QtCore import Qt, QRectF, QPoint, QPointF, QSize, pyqtSignal\n",
    "from PyQt5.QtWidgets import QApplication, QLabel, QMainWindow, QVBoxLayout, QWidget, QSizePolicy,QPushButton, QStackedLayout, QGraphicsColorizeEffect , QGridLayout\n",
    "from PyQt5.QtGui import QPixmap, QPainter, QImage, QImageReader, QPainterPath, QPolygon, QColor, QIcon\n",
    "\n",
    "\n",
    "        \n",
    "\n",
    "\n",
    "class MainWindow(QMainWindow):\n",
    "    def __init__(self):\n",
    "        super().__init__()\n",
    "        main_wid = QWidget()\n",
    "        lay = QGridLayout(main_wid)\n",
    "        lay.setContentsMargins(3, 3, 3, 3)\n",
    "        lay.setSpacing(0)\n",
    "        for i in range(5):\n",
    "            for j in range(2):\n",
    "                impath = rm.PATH_MAIN.joinpath(df.iloc[i + j*5][\"ImagePath\"])\n",
    "                wid = KingdomCardImageWidget(str(impath))\n",
    "                lay.addWidget(wid, j, i)\n",
    "        self.central_widget = main_wid\n",
    "        main_wid.setAutoFillBackground(True)\n",
    "        palette = main_wid.palette()\n",
    "        palette.setColor(main_wid.backgroundRole(), Qt.black)\n",
    "        main_wid.setPalette(palette)\n",
    "\n",
    "        self.setCentralWidget(self.central_widget)\n",
    "        self.setWindowTitle(\"Image Cutout Example\")\n",
    "        self.setGeometry(100, 100, 200, 200)\n",
    "\n",
    "\n",
    "def start_app():\n",
    "    qapp = QApplication.instance()\n",
    "    if not qapp:\n",
    "        qapp = QApplication(sys.argv)\n",
    "    window = MainWindow()\n",
    "    window.show()\n",
    "    window.activateWindow()\n",
    "    qapp.exec_()\n",
    "start_app()\n"
   ]
  }
 ],
 "metadata": {
  "kernelspec": {
   "display_name": "base",
   "language": "python",
   "name": "python3"
  },
  "language_info": {
   "codemirror_mode": {
    "name": "ipython",
    "version": 3
   },
   "file_extension": ".py",
   "mimetype": "text/x-python",
   "name": "python",
   "nbconvert_exporter": "python",
   "pygments_lexer": "ipython3",
   "version": "3.11.4"
  },
  "orig_nbformat": 4
 },
 "nbformat": 4,
 "nbformat_minor": 2
}
