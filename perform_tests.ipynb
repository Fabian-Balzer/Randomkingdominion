{
 "cells": [
  {
   "cell_type": "code",
   "execution_count": 23,
   "metadata": {},
   "outputs": [
    {
     "name": "stdout",
     "output_type": "stream",
     "text": [
      "\u001b[1m============================= test session starts =============================\u001b[0m\n",
      "platform win32 -- Python 3.9.7, pytest-7.3.1, pluggy-1.0.0 -- c:\\Users\\fabia\\anaconda3\\python.exe\n",
      "cachedir: .pytest_cache\n",
      "rootdir: c:\\Users\\fabia\\OneDrive\\Dokumente\\Freizeit\\Dominion\\Dominion_randomizer\n",
      "plugins: anyio-3.5.0\n",
      "\u001b[1mcollecting ... \u001b[0mcollected 7 items\n",
      "\n",
      "randomizer_modules_tests/constants_test.py::test_filenames \u001b[32mPASSED\u001b[0m\n",
      "randomizer_modules_tests/constants_test.py::test_filepaths \u001b[32mPASSED\u001b[0m\n",
      "randomizer_modules_tests/data_handling_test.py::test_quality_availability \u001b[32mPASSED\u001b[0m\n",
      "randomizer_modules_tests/data_handling_test.py::test_quality_reasonability \u001b[32mPASSED\u001b[0m\n",
      "randomizer_modules_tests/data_handling_test.py::test_attack_type_availability \u001b[32mPASSED\u001b[0m\n",
      "randomizer_modules_tests/data_handling_test.py::test_thinning_type_availability \u001b[32mPASSED\u001b[0m\n",
      "randomizer_modules_tests/data_handling_test.py::test_expansion_availability \u001b[32mPASSED\u001b[0m\n",
      "\n",
      "\u001b[32m============================== \u001b[32m\u001b[1m7 passed\u001b[0m\u001b[32m in 0.75s\u001b[0m\u001b[32m ==============================\u001b[0m\n"
     ]
    },
    {
     "ename": "",
     "evalue": "",
     "output_type": "error",
     "traceback": [
      "\u001b[1;31mThe Kernel crashed while executing code in the the current cell or a previous cell. Please review the code in the cell(s) to identify a possible cause of the failure. Click <a href='https://aka.ms/vscodeJupyterKernelCrash'>here</a> for more info. View Jupyter <a href='command:jupyter.viewOutput'>log</a> for further details."
     ]
    }
   ],
   "source": [
    "!python -m pytest randomizer_modules_tests -v -s"
   ]
  }
 ],
 "metadata": {
  "kernelspec": {
   "display_name": "base",
   "language": "python",
   "name": "python3"
  },
  "language_info": {
   "codemirror_mode": {
    "name": "ipython",
    "version": 3
   },
   "file_extension": ".py",
   "mimetype": "text/x-python",
   "name": "python",
   "nbconvert_exporter": "python",
   "pygments_lexer": "ipython3",
   "version": "3.9.7"
  },
  "orig_nbformat": 4
 },
 "nbformat": 4,
 "nbformat_minor": 2
}
